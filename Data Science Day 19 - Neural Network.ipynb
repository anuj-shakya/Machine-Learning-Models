{
 "cells": [
  {
   "cell_type": "code",
   "execution_count": 1,
   "id": "d68f998d",
   "metadata": {},
   "outputs": [],
   "source": [
    "import numpy as np\n",
    "import pandas as pd\n",
    "import matplotlib.pyplot as plt"
   ]
  },
  {
   "cell_type": "code",
   "execution_count": 2,
   "id": "e9f30ec1",
   "metadata": {},
   "outputs": [],
   "source": [
    "import tensorflow as tf\n",
    "from keras.models import Sequential\n",
    "from keras.layers import Dense, ReLU, LeakyReLU          # ReLU >-- ( y: if y>=0: print y else 0 )\n",
    "                                                        #leakyReLU >-- ( y: if y>=0: print y else y * 𝛼 (alpha) ) \n",
    "from keras.callbacks import EarlyStopping, ModelCheckpoint\n",
    "\n",
    "from keras.utils.np_utils import to_categorical"
   ]
  },
  {
   "cell_type": "code",
   "execution_count": 3,
   "id": "9e530955",
   "metadata": {},
   "outputs": [],
   "source": [
    "from sklearn.preprocessing import StandardScaler\n",
    "from sklearn.model_selection import train_test_split\n",
    "from sklearn.metrics import classification_report , r2_score, mean_absolute_error"
   ]
  },
  {
   "cell_type": "code",
   "execution_count": 4,
   "id": "e91c36cb",
   "metadata": {},
   "outputs": [
    {
     "name": "stdout",
     "output_type": "stream",
     "text": [
      ".. _california_housing_dataset:\n",
      "\n",
      "California Housing dataset\n",
      "--------------------------\n",
      "\n",
      "**Data Set Characteristics:**\n",
      "\n",
      "    :Number of Instances: 20640\n",
      "\n",
      "    :Number of Attributes: 8 numeric, predictive attributes and the target\n",
      "\n",
      "    :Attribute Information:\n",
      "        - MedInc        median income in block group\n",
      "        - HouseAge      median house age in block group\n",
      "        - AveRooms      average number of rooms per household\n",
      "        - AveBedrms     average number of bedrooms per household\n",
      "        - Population    block group population\n",
      "        - AveOccup      average number of household members\n",
      "        - Latitude      block group latitude\n",
      "        - Longitude     block group longitude\n",
      "\n",
      "    :Missing Attribute Values: None\n",
      "\n",
      "This dataset was obtained from the StatLib repository.\n",
      "https://www.dcc.fc.up.pt/~ltorgo/Regression/cal_housing.html\n",
      "\n",
      "The target variable is the median house value for California districts,\n",
      "expressed in hundreds of thousands of dollars ($100,000).\n",
      "\n",
      "This dataset was derived from the 1990 U.S. census, using one row per census\n",
      "block group. A block group is the smallest geographical unit for which the U.S.\n",
      "Census Bureau publishes sample data (a block group typically has a population\n",
      "of 600 to 3,000 people).\n",
      "\n",
      "An household is a group of people residing within a home. Since the average\n",
      "number of rooms and bedrooms in this dataset are provided per household, these\n",
      "columns may take surpinsingly large values for block groups with few households\n",
      "and many empty houses, such as vacation resorts.\n",
      "\n",
      "It can be downloaded/loaded using the\n",
      ":func:`sklearn.datasets.fetch_california_housing` function.\n",
      "\n",
      ".. topic:: References\n",
      "\n",
      "    - Pace, R. Kelley and Ronald Barry, Sparse Spatial Autoregressions,\n",
      "      Statistics and Probability Letters, 33 (1997) 291-297\n",
      "\n"
     ]
    }
   ],
   "source": [
    "from sklearn.datasets import fetch_california_housing\n",
    "house_data = fetch_california_housing()\n",
    "print(house_data.DESCR)"
   ]
  },
  {
   "cell_type": "code",
   "execution_count": 5,
   "id": "c22108a6",
   "metadata": {},
   "outputs": [],
   "source": [
    "X = house_data.data\n",
    "y = house_data.target"
   ]
  },
  {
   "cell_type": "code",
   "execution_count": 6,
   "id": "e318c8be",
   "metadata": {},
   "outputs": [
    {
     "data": {
      "text/html": [
       "<div>\n",
       "<style scoped>\n",
       "    .dataframe tbody tr th:only-of-type {\n",
       "        vertical-align: middle;\n",
       "    }\n",
       "\n",
       "    .dataframe tbody tr th {\n",
       "        vertical-align: top;\n",
       "    }\n",
       "\n",
       "    .dataframe thead th {\n",
       "        text-align: right;\n",
       "    }\n",
       "</style>\n",
       "<table border=\"1\" class=\"dataframe\">\n",
       "  <thead>\n",
       "    <tr style=\"text-align: right;\">\n",
       "      <th></th>\n",
       "      <th>MedInc</th>\n",
       "      <th>HouseAge</th>\n",
       "      <th>AveRooms</th>\n",
       "      <th>AveBedrms</th>\n",
       "      <th>Population</th>\n",
       "      <th>AveOccup</th>\n",
       "      <th>Latitude</th>\n",
       "      <th>Longitude</th>\n",
       "    </tr>\n",
       "  </thead>\n",
       "  <tbody>\n",
       "    <tr>\n",
       "      <th>19468</th>\n",
       "      <td>3.1848</td>\n",
       "      <td>27.0</td>\n",
       "      <td>5.579387</td>\n",
       "      <td>1.061281</td>\n",
       "      <td>1806.0</td>\n",
       "      <td>2.515320</td>\n",
       "      <td>37.68</td>\n",
       "      <td>-120.98</td>\n",
       "    </tr>\n",
       "    <tr>\n",
       "      <th>8951</th>\n",
       "      <td>2.1250</td>\n",
       "      <td>39.0</td>\n",
       "      <td>4.096154</td>\n",
       "      <td>0.846154</td>\n",
       "      <td>138.0</td>\n",
       "      <td>2.653846</td>\n",
       "      <td>34.03</td>\n",
       "      <td>-118.37</td>\n",
       "    </tr>\n",
       "    <tr>\n",
       "      <th>10707</th>\n",
       "      <td>2.6848</td>\n",
       "      <td>26.0</td>\n",
       "      <td>4.594268</td>\n",
       "      <td>1.095023</td>\n",
       "      <td>888.0</td>\n",
       "      <td>1.339367</td>\n",
       "      <td>33.61</td>\n",
       "      <td>-117.71</td>\n",
       "    </tr>\n",
       "    <tr>\n",
       "      <th>5410</th>\n",
       "      <td>6.2583</td>\n",
       "      <td>37.0</td>\n",
       "      <td>4.959502</td>\n",
       "      <td>0.959502</td>\n",
       "      <td>783.0</td>\n",
       "      <td>2.439252</td>\n",
       "      <td>34.02</td>\n",
       "      <td>-118.44</td>\n",
       "    </tr>\n",
       "    <tr>\n",
       "      <th>12028</th>\n",
       "      <td>4.0256</td>\n",
       "      <td>28.0</td>\n",
       "      <td>5.967880</td>\n",
       "      <td>1.049251</td>\n",
       "      <td>1684.0</td>\n",
       "      <td>3.605996</td>\n",
       "      <td>33.94</td>\n",
       "      <td>-117.49</td>\n",
       "    </tr>\n",
       "    <tr>\n",
       "      <th>10349</th>\n",
       "      <td>7.5488</td>\n",
       "      <td>25.0</td>\n",
       "      <td>7.550403</td>\n",
       "      <td>1.052419</td>\n",
       "      <td>1648.0</td>\n",
       "      <td>3.322581</td>\n",
       "      <td>33.60</td>\n",
       "      <td>-117.66</td>\n",
       "    </tr>\n",
       "    <tr>\n",
       "      <th>14622</th>\n",
       "      <td>3.7381</td>\n",
       "      <td>34.0</td>\n",
       "      <td>4.883495</td>\n",
       "      <td>0.947573</td>\n",
       "      <td>1594.0</td>\n",
       "      <td>3.095146</td>\n",
       "      <td>32.78</td>\n",
       "      <td>-117.16</td>\n",
       "    </tr>\n",
       "  </tbody>\n",
       "</table>\n",
       "</div>"
      ],
      "text/plain": [
       "       MedInc  HouseAge  AveRooms  AveBedrms  Population  AveOccup  Latitude  \\\n",
       "19468  3.1848      27.0  5.579387   1.061281      1806.0  2.515320     37.68   \n",
       "8951   2.1250      39.0  4.096154   0.846154       138.0  2.653846     34.03   \n",
       "10707  2.6848      26.0  4.594268   1.095023       888.0  1.339367     33.61   \n",
       "5410   6.2583      37.0  4.959502   0.959502       783.0  2.439252     34.02   \n",
       "12028  4.0256      28.0  5.967880   1.049251      1684.0  3.605996     33.94   \n",
       "10349  7.5488      25.0  7.550403   1.052419      1648.0  3.322581     33.60   \n",
       "14622  3.7381      34.0  4.883495   0.947573      1594.0  3.095146     32.78   \n",
       "\n",
       "       Longitude  \n",
       "19468    -120.98  \n",
       "8951     -118.37  \n",
       "10707    -117.71  \n",
       "5410     -118.44  \n",
       "12028    -117.49  \n",
       "10349    -117.66  \n",
       "14622    -117.16  "
      ]
     },
     "execution_count": 6,
     "metadata": {},
     "output_type": "execute_result"
    }
   ],
   "source": [
    "X = pd.DataFrame(data = X , columns= house_data.feature_names)\n",
    "X.sample(7)"
   ]
  },
  {
   "cell_type": "code",
   "execution_count": 7,
   "id": "fd9ec0ec",
   "metadata": {},
   "outputs": [],
   "source": [
    "# !pip install sweetviz"
   ]
  },
  {
   "cell_type": "code",
   "execution_count": 8,
   "id": "59df5fa3",
   "metadata": {},
   "outputs": [
    {
     "data": {
      "text/html": [
       "<div>\n",
       "<style scoped>\n",
       "    .dataframe tbody tr th:only-of-type {\n",
       "        vertical-align: middle;\n",
       "    }\n",
       "\n",
       "    .dataframe tbody tr th {\n",
       "        vertical-align: top;\n",
       "    }\n",
       "\n",
       "    .dataframe thead th {\n",
       "        text-align: right;\n",
       "    }\n",
       "</style>\n",
       "<table border=\"1\" class=\"dataframe\">\n",
       "  <thead>\n",
       "    <tr style=\"text-align: right;\">\n",
       "      <th></th>\n",
       "      <th>MedInc</th>\n",
       "      <th>HouseAge</th>\n",
       "      <th>AveRooms</th>\n",
       "      <th>AveBedrms</th>\n",
       "      <th>Population</th>\n",
       "      <th>AveOccup</th>\n",
       "      <th>Latitude</th>\n",
       "      <th>Longitude</th>\n",
       "      <th>Price</th>\n",
       "    </tr>\n",
       "  </thead>\n",
       "  <tbody>\n",
       "    <tr>\n",
       "      <th>0</th>\n",
       "      <td>8.3252</td>\n",
       "      <td>41.0</td>\n",
       "      <td>6.984127</td>\n",
       "      <td>1.023810</td>\n",
       "      <td>322.0</td>\n",
       "      <td>2.555556</td>\n",
       "      <td>37.88</td>\n",
       "      <td>-122.23</td>\n",
       "      <td>4.526</td>\n",
       "    </tr>\n",
       "    <tr>\n",
       "      <th>1</th>\n",
       "      <td>8.3014</td>\n",
       "      <td>21.0</td>\n",
       "      <td>6.238137</td>\n",
       "      <td>0.971880</td>\n",
       "      <td>2401.0</td>\n",
       "      <td>2.109842</td>\n",
       "      <td>37.86</td>\n",
       "      <td>-122.22</td>\n",
       "      <td>3.585</td>\n",
       "    </tr>\n",
       "    <tr>\n",
       "      <th>2</th>\n",
       "      <td>7.2574</td>\n",
       "      <td>52.0</td>\n",
       "      <td>8.288136</td>\n",
       "      <td>1.073446</td>\n",
       "      <td>496.0</td>\n",
       "      <td>2.802260</td>\n",
       "      <td>37.85</td>\n",
       "      <td>-122.24</td>\n",
       "      <td>3.521</td>\n",
       "    </tr>\n",
       "    <tr>\n",
       "      <th>3</th>\n",
       "      <td>5.6431</td>\n",
       "      <td>52.0</td>\n",
       "      <td>5.817352</td>\n",
       "      <td>1.073059</td>\n",
       "      <td>558.0</td>\n",
       "      <td>2.547945</td>\n",
       "      <td>37.85</td>\n",
       "      <td>-122.25</td>\n",
       "      <td>3.413</td>\n",
       "    </tr>\n",
       "    <tr>\n",
       "      <th>4</th>\n",
       "      <td>3.8462</td>\n",
       "      <td>52.0</td>\n",
       "      <td>6.281853</td>\n",
       "      <td>1.081081</td>\n",
       "      <td>565.0</td>\n",
       "      <td>2.181467</td>\n",
       "      <td>37.85</td>\n",
       "      <td>-122.25</td>\n",
       "      <td>3.422</td>\n",
       "    </tr>\n",
       "  </tbody>\n",
       "</table>\n",
       "</div>"
      ],
      "text/plain": [
       "   MedInc  HouseAge  AveRooms  AveBedrms  Population  AveOccup  Latitude  \\\n",
       "0  8.3252      41.0  6.984127   1.023810       322.0  2.555556     37.88   \n",
       "1  8.3014      21.0  6.238137   0.971880      2401.0  2.109842     37.86   \n",
       "2  7.2574      52.0  8.288136   1.073446       496.0  2.802260     37.85   \n",
       "3  5.6431      52.0  5.817352   1.073059       558.0  2.547945     37.85   \n",
       "4  3.8462      52.0  6.281853   1.081081       565.0  2.181467     37.85   \n",
       "\n",
       "   Longitude  Price  \n",
       "0    -122.23  4.526  \n",
       "1    -122.22  3.585  \n",
       "2    -122.24  3.521  \n",
       "3    -122.25  3.413  \n",
       "4    -122.25  3.422  "
      ]
     },
     "execution_count": 8,
     "metadata": {},
     "output_type": "execute_result"
    }
   ],
   "source": [
    "X['Price'] = y    # add new columns where the data belongs to y ( target)\n",
    "\n",
    "X.head()"
   ]
  },
  {
   "cell_type": "code",
   "execution_count": 9,
   "id": "acbde95c",
   "metadata": {},
   "outputs": [],
   "source": [
    "import sweetviz"
   ]
  },
  {
   "cell_type": "code",
   "execution_count": 10,
   "id": "4a39c6b3",
   "metadata": {},
   "outputs": [
    {
     "data": {
      "application/vnd.jupyter.widget-view+json": {
       "model_id": "d6aca5cda6f744bea8af1df137119fa7",
       "version_major": 2,
       "version_minor": 0
      },
      "text/plain": [
       "                                             |                                             | [  0%]   00:00 ->…"
      ]
     },
     "metadata": {},
     "output_type": "display_data"
    }
   ],
   "source": [
    "report = sweetviz.analyze(X, target_feat='Price')"
   ]
  },
  {
   "cell_type": "code",
   "execution_count": 11,
   "id": "6088af66",
   "metadata": {},
   "outputs": [
    {
     "name": "stdout",
     "output_type": "stream",
     "text": [
      "Report California_Housing_Report.html was generated! NOTEBOOK/COLAB USERS: the web browser MAY not pop up, regardless, the report IS saved in your notebook/colab files.\n"
     ]
    }
   ],
   "source": [
    "report.show_html('California_Housing_Report.html')"
   ]
  },
  {
   "cell_type": "code",
   "execution_count": 12,
   "id": "c9b9b30f",
   "metadata": {},
   "outputs": [],
   "source": [
    "X.drop(['Price'],axis = 1, inplace = True)"
   ]
  },
  {
   "cell_type": "code",
   "execution_count": 13,
   "id": "93c17cb8",
   "metadata": {},
   "outputs": [],
   "source": [
    "X_train, X_test, y_train, y_test = train_test_split(X, y , test_size= 0.2 , random_state= 222)"
   ]
  },
  {
   "cell_type": "markdown",
   "id": "484327d5",
   "metadata": {},
   "source": [
    "Standard Scalling ( X_train, X_test)"
   ]
  },
  {
   "cell_type": "code",
   "execution_count": 14,
   "id": "c0001d3d",
   "metadata": {},
   "outputs": [],
   "source": [
    "scaler = StandardScaler()"
   ]
  },
  {
   "cell_type": "code",
   "execution_count": 15,
   "id": "93ab6d30",
   "metadata": {},
   "outputs": [],
   "source": [
    "X_train = scaler.fit_transform(X_train)"
   ]
  },
  {
   "cell_type": "code",
   "execution_count": 16,
   "id": "b3a04a31",
   "metadata": {},
   "outputs": [],
   "source": [
    "X_test = scaler.transform(X_test)"
   ]
  },
  {
   "cell_type": "code",
   "execution_count": 28,
   "id": "02f2ea0c",
   "metadata": {},
   "outputs": [],
   "source": [
    "model = Sequential()\n",
    "\n",
    "# input Layer\n",
    "model.add(Dense(input_dim = 8, units = 16 , activation = LeakyReLU()))\n",
    "\n",
    "# hidden Layer\n",
    "model.add(Dense(units = 12 , activation = LeakyReLU()))\n",
    "model.add(Dense(units = 8 , activation = LeakyReLU()))\n",
    "\n",
    "# output Layer\n",
    "model.add(Dense(units = 1 , activation = ReLU()))   # RelU used for regression\n",
    "                                                    # LeakyReLU for classification\n",
    "model.compile( loss = 'mae', metrics=['mae','mse'], optimizer ='adam')"
   ]
  },
  {
   "cell_type": "code",
   "execution_count": 29,
   "id": "0a899f8b",
   "metadata": {},
   "outputs": [
    {
     "name": "stdout",
     "output_type": "stream",
     "text": [
      "Model: \"sequential_4\"\n",
      "_________________________________________________________________\n",
      " Layer (type)                Output Shape              Param #   \n",
      "=================================================================\n",
      " dense_12 (Dense)            (None, 16)                144       \n",
      "                                                                 \n",
      " dense_13 (Dense)            (None, 12)                204       \n",
      "                                                                 \n",
      " dense_14 (Dense)            (None, 8)                 104       \n",
      "                                                                 \n",
      " dense_15 (Dense)            (None, 1)                 9         \n",
      "                                                                 \n",
      "=================================================================\n",
      "Total params: 461\n",
      "Trainable params: 461\n",
      "Non-trainable params: 0\n",
      "_________________________________________________________________\n"
     ]
    }
   ],
   "source": [
    "model.summary()"
   ]
  },
  {
   "cell_type": "code",
   "execution_count": 30,
   "id": "f6a9a707",
   "metadata": {},
   "outputs": [],
   "source": [
    "es = EarlyStopping(monitor='val_mae', patience = 10)\n",
    "checkpoint = ModelCheckpoint(filepath= 'checkpoint.h5',save_best_only= True, save_weights_only= False)"
   ]
  },
  {
   "cell_type": "code",
   "execution_count": 31,
   "id": "3f5da7c7",
   "metadata": {},
   "outputs": [
    {
     "name": "stdout",
     "output_type": "stream",
     "text": [
      "Epoch 1/1000\n",
      "465/465 [==============================] - 2s 2ms/step - loss: 0.7904 - mae: 0.7904 - mse: 1.3177 - val_loss: 0.5392 - val_mae: 0.5392 - val_mse: 0.6532\n",
      "Epoch 2/1000\n",
      "465/465 [==============================] - 1s 1ms/step - loss: 0.4850 - mae: 0.4850 - mse: 0.5110 - val_loss: 0.4708 - val_mae: 0.4708 - val_mse: 0.5054\n",
      "Epoch 3/1000\n",
      "465/465 [==============================] - 1s 1ms/step - loss: 0.4547 - mae: 0.4547 - mse: 0.4523 - val_loss: 0.4577 - val_mae: 0.4577 - val_mse: 0.4779\n",
      "Epoch 4/1000\n",
      "465/465 [==============================] - 1s 1ms/step - loss: 0.4436 - mae: 0.4436 - mse: 0.4274 - val_loss: 0.4488 - val_mae: 0.4488 - val_mse: 0.4619\n",
      "Epoch 5/1000\n",
      "465/465 [==============================] - 1s 1ms/step - loss: 0.4383 - mae: 0.4383 - mse: 0.4201 - val_loss: 0.4409 - val_mae: 0.4409 - val_mse: 0.4340\n",
      "Epoch 6/1000\n",
      "465/465 [==============================] - 1s 2ms/step - loss: 0.4312 - mae: 0.4312 - mse: 0.4088 - val_loss: 0.4340 - val_mae: 0.4340 - val_mse: 0.4322\n",
      "Epoch 7/1000\n",
      "465/465 [==============================] - 1s 2ms/step - loss: 0.4251 - mae: 0.4251 - mse: 0.3976 - val_loss: 0.4268 - val_mae: 0.4268 - val_mse: 0.4139\n",
      "Epoch 8/1000\n",
      "465/465 [==============================] - 1s 2ms/step - loss: 0.4216 - mae: 0.4216 - mse: 0.3911 - val_loss: 0.4291 - val_mae: 0.4291 - val_mse: 0.4194\n",
      "Epoch 9/1000\n",
      "465/465 [==============================] - 1s 2ms/step - loss: 0.4180 - mae: 0.4180 - mse: 0.3862 - val_loss: 0.4237 - val_mae: 0.4237 - val_mse: 0.4012\n",
      "Epoch 10/1000\n",
      "465/465 [==============================] - 1s 2ms/step - loss: 0.4145 - mae: 0.4145 - mse: 0.3794 - val_loss: 0.4199 - val_mae: 0.4199 - val_mse: 0.3876\n",
      "Epoch 11/1000\n",
      "465/465 [==============================] - 1s 2ms/step - loss: 0.4134 - mae: 0.4134 - mse: 0.3809 - val_loss: 0.4177 - val_mae: 0.4177 - val_mse: 0.3991\n",
      "Epoch 12/1000\n",
      "465/465 [==============================] - 1s 1ms/step - loss: 0.4088 - mae: 0.4088 - mse: 0.3720 - val_loss: 0.4149 - val_mae: 0.4149 - val_mse: 0.3811\n",
      "Epoch 13/1000\n",
      "465/465 [==============================] - 1s 1ms/step - loss: 0.4070 - mae: 0.4070 - mse: 0.3700 - val_loss: 0.4098 - val_mae: 0.4098 - val_mse: 0.3761\n",
      "Epoch 14/1000\n",
      "465/465 [==============================] - 1s 1ms/step - loss: 0.4048 - mae: 0.4048 - mse: 0.3645 - val_loss: 0.4144 - val_mae: 0.4144 - val_mse: 0.3946\n",
      "Epoch 15/1000\n",
      "465/465 [==============================] - 1s 1ms/step - loss: 0.4035 - mae: 0.4035 - mse: 0.3616 - val_loss: 0.4080 - val_mae: 0.4080 - val_mse: 0.3745\n",
      "Epoch 16/1000\n",
      "465/465 [==============================] - 1s 1ms/step - loss: 0.4010 - mae: 0.4010 - mse: 0.3606 - val_loss: 0.4049 - val_mae: 0.4049 - val_mse: 0.3650\n",
      "Epoch 17/1000\n",
      "465/465 [==============================] - 1s 1ms/step - loss: 0.3990 - mae: 0.3990 - mse: 0.3542 - val_loss: 0.4043 - val_mae: 0.4043 - val_mse: 0.3655\n",
      "Epoch 18/1000\n",
      "465/465 [==============================] - 1s 1ms/step - loss: 0.3971 - mae: 0.3971 - mse: 0.3510 - val_loss: 0.4031 - val_mae: 0.4031 - val_mse: 0.3774\n",
      "Epoch 19/1000\n",
      "465/465 [==============================] - 1s 1ms/step - loss: 0.3957 - mae: 0.3957 - mse: 0.3505 - val_loss: 0.4046 - val_mae: 0.4046 - val_mse: 0.3705\n",
      "Epoch 20/1000\n",
      "465/465 [==============================] - 1s 1ms/step - loss: 0.3939 - mae: 0.3939 - mse: 0.3462 - val_loss: 0.3987 - val_mae: 0.3987 - val_mse: 0.3605\n",
      "Epoch 21/1000\n",
      "465/465 [==============================] - 1s 1ms/step - loss: 0.3947 - mae: 0.3947 - mse: 0.3633 - val_loss: 0.3948 - val_mae: 0.3948 - val_mse: 0.3618\n",
      "Epoch 22/1000\n",
      "465/465 [==============================] - 1s 1ms/step - loss: 0.3910 - mae: 0.3910 - mse: 0.3422 - val_loss: 0.3965 - val_mae: 0.3965 - val_mse: 0.3672\n",
      "Epoch 23/1000\n",
      "465/465 [==============================] - 1s 1ms/step - loss: 0.3894 - mae: 0.3894 - mse: 0.3403 - val_loss: 0.3965 - val_mae: 0.3965 - val_mse: 0.3686\n",
      "Epoch 24/1000\n",
      "465/465 [==============================] - 1s 1ms/step - loss: 0.3880 - mae: 0.3880 - mse: 0.3396 - val_loss: 0.3913 - val_mae: 0.3913 - val_mse: 0.3500\n",
      "Epoch 25/1000\n",
      "465/465 [==============================] - 1s 1ms/step - loss: 0.3868 - mae: 0.3868 - mse: 0.3357 - val_loss: 0.3877 - val_mae: 0.3877 - val_mse: 0.3467\n",
      "Epoch 26/1000\n",
      "465/465 [==============================] - 1s 1ms/step - loss: 0.3852 - mae: 0.3852 - mse: 0.3428 - val_loss: 0.3891 - val_mae: 0.3891 - val_mse: 0.3619\n",
      "Epoch 27/1000\n",
      "465/465 [==============================] - 1s 1ms/step - loss: 0.3830 - mae: 0.3830 - mse: 0.3314 - val_loss: 0.3949 - val_mae: 0.3949 - val_mse: 0.3590\n",
      "Epoch 28/1000\n",
      "465/465 [==============================] - 1s 1ms/step - loss: 0.3825 - mae: 0.3825 - mse: 0.3308 - val_loss: 0.4066 - val_mae: 0.4066 - val_mse: 0.3553\n",
      "Epoch 29/1000\n",
      "465/465 [==============================] - 1s 1ms/step - loss: 0.3822 - mae: 0.3822 - mse: 0.3341 - val_loss: 0.3902 - val_mae: 0.3902 - val_mse: 0.3673\n",
      "Epoch 30/1000\n",
      "465/465 [==============================] - 1s 1ms/step - loss: 0.3807 - mae: 0.3807 - mse: 0.3301 - val_loss: 0.3838 - val_mae: 0.3838 - val_mse: 0.3497\n",
      "Epoch 31/1000\n",
      "465/465 [==============================] - 1s 1ms/step - loss: 0.3803 - mae: 0.3803 - mse: 0.3287 - val_loss: 0.3841 - val_mae: 0.3841 - val_mse: 0.3509\n",
      "Epoch 32/1000\n",
      "465/465 [==============================] - 1s 1ms/step - loss: 0.3817 - mae: 0.3817 - mse: 0.4137 - val_loss: 0.3852 - val_mae: 0.3852 - val_mse: 0.3547\n",
      "Epoch 33/1000\n",
      "465/465 [==============================] - 1s 1ms/step - loss: 0.3778 - mae: 0.3778 - mse: 0.3275 - val_loss: 0.3837 - val_mae: 0.3837 - val_mse: 0.3510\n",
      "Epoch 34/1000\n",
      "465/465 [==============================] - 1s 1ms/step - loss: 0.3775 - mae: 0.3775 - mse: 0.3267 - val_loss: 0.3880 - val_mae: 0.3880 - val_mse: 0.3435\n",
      "Epoch 35/1000\n",
      "465/465 [==============================] - 1s 1ms/step - loss: 0.3772 - mae: 0.3772 - mse: 0.3248 - val_loss: 0.3857 - val_mae: 0.3857 - val_mse: 0.3545\n",
      "Epoch 36/1000\n",
      "465/465 [==============================] - 1s 1ms/step - loss: 0.3759 - mae: 0.3759 - mse: 0.3299 - val_loss: 0.3800 - val_mae: 0.3800 - val_mse: 0.3391\n",
      "Epoch 37/1000\n",
      "465/465 [==============================] - 1s 2ms/step - loss: 0.3750 - mae: 0.3750 - mse: 0.3229 - val_loss: 0.3794 - val_mae: 0.3794 - val_mse: 0.3440\n",
      "Epoch 38/1000\n",
      "465/465 [==============================] - 1s 1ms/step - loss: 0.3750 - mae: 0.3750 - mse: 0.3224 - val_loss: 0.3857 - val_mae: 0.3857 - val_mse: 0.3525\n",
      "Epoch 39/1000\n",
      "465/465 [==============================] - 1s 1ms/step - loss: 0.3748 - mae: 0.3748 - mse: 0.3219 - val_loss: 0.3849 - val_mae: 0.3849 - val_mse: 0.3347\n",
      "Epoch 40/1000\n",
      "465/465 [==============================] - 1s 2ms/step - loss: 0.3736 - mae: 0.3736 - mse: 0.3209 - val_loss: 0.3825 - val_mae: 0.3825 - val_mse: 0.3575\n",
      "Epoch 41/1000\n",
      "465/465 [==============================] - 1s 1ms/step - loss: 0.3733 - mae: 0.3733 - mse: 0.3208 - val_loss: 0.3841 - val_mae: 0.3841 - val_mse: 0.3479\n",
      "Epoch 42/1000\n",
      "465/465 [==============================] - 1s 1ms/step - loss: 0.3729 - mae: 0.3729 - mse: 0.3194 - val_loss: 0.3848 - val_mae: 0.3848 - val_mse: 0.3610\n",
      "Epoch 43/1000\n",
      "465/465 [==============================] - 1s 1ms/step - loss: 0.3733 - mae: 0.3733 - mse: 0.3186 - val_loss: 0.3788 - val_mae: 0.3788 - val_mse: 0.3382\n",
      "Epoch 44/1000\n",
      "465/465 [==============================] - 1s 1ms/step - loss: 0.3716 - mae: 0.3716 - mse: 0.3181 - val_loss: 0.3792 - val_mae: 0.3792 - val_mse: 0.3437\n",
      "Epoch 45/1000\n",
      "465/465 [==============================] - 1s 1ms/step - loss: 0.3711 - mae: 0.3711 - mse: 0.3155 - val_loss: 0.3780 - val_mae: 0.3780 - val_mse: 0.3414\n",
      "Epoch 46/1000\n",
      "465/465 [==============================] - 1s 1ms/step - loss: 0.3710 - mae: 0.3710 - mse: 0.3301 - val_loss: 0.3809 - val_mae: 0.3809 - val_mse: 0.3292\n",
      "Epoch 47/1000\n",
      "465/465 [==============================] - 1s 1ms/step - loss: 0.3687 - mae: 0.3687 - mse: 0.3141 - val_loss: 0.3797 - val_mae: 0.3797 - val_mse: 0.3395\n",
      "Epoch 48/1000\n",
      "465/465 [==============================] - 1s 1ms/step - loss: 0.3696 - mae: 0.3696 - mse: 0.3160 - val_loss: 0.3799 - val_mae: 0.3799 - val_mse: 0.3338\n",
      "Epoch 49/1000\n",
      "465/465 [==============================] - 1s 1ms/step - loss: 0.3701 - mae: 0.3701 - mse: 0.3155 - val_loss: 0.3739 - val_mae: 0.3739 - val_mse: 0.3309\n",
      "Epoch 50/1000\n"
     ]
    },
    {
     "name": "stdout",
     "output_type": "stream",
     "text": [
      "465/465 [==============================] - 1s 1ms/step - loss: 0.3672 - mae: 0.3672 - mse: 0.3122 - val_loss: 0.3736 - val_mae: 0.3736 - val_mse: 0.3320\n",
      "Epoch 51/1000\n",
      "465/465 [==============================] - 1s 1ms/step - loss: 0.3679 - mae: 0.3679 - mse: 0.3115 - val_loss: 0.3767 - val_mae: 0.3767 - val_mse: 0.3364\n",
      "Epoch 52/1000\n",
      "465/465 [==============================] - 1s 1ms/step - loss: 0.3671 - mae: 0.3671 - mse: 0.3117 - val_loss: 0.3740 - val_mae: 0.3740 - val_mse: 0.3341\n",
      "Epoch 53/1000\n",
      "465/465 [==============================] - 1s 1ms/step - loss: 0.3699 - mae: 0.3699 - mse: 0.4257 - val_loss: 0.3818 - val_mae: 0.3818 - val_mse: 0.3307\n",
      "Epoch 54/1000\n",
      "465/465 [==============================] - 1s 1ms/step - loss: 0.3666 - mae: 0.3666 - mse: 0.3114 - val_loss: 0.3736 - val_mae: 0.3736 - val_mse: 0.3323\n",
      "Epoch 55/1000\n",
      "465/465 [==============================] - 1s 1ms/step - loss: 0.3641 - mae: 0.3641 - mse: 0.3083 - val_loss: 0.3859 - val_mae: 0.3859 - val_mse: 0.3578\n",
      "Epoch 56/1000\n",
      "465/465 [==============================] - 1s 1ms/step - loss: 0.3654 - mae: 0.3654 - mse: 0.3119 - val_loss: 0.3727 - val_mae: 0.3727 - val_mse: 0.3320\n",
      "Epoch 57/1000\n",
      "465/465 [==============================] - 1s 1ms/step - loss: 0.3649 - mae: 0.3649 - mse: 0.3086 - val_loss: 0.3717 - val_mae: 0.3717 - val_mse: 0.3263\n",
      "Epoch 58/1000\n",
      "465/465 [==============================] - 1s 1ms/step - loss: 0.3627 - mae: 0.3627 - mse: 0.3072 - val_loss: 0.3767 - val_mae: 0.3767 - val_mse: 0.3305\n",
      "Epoch 59/1000\n",
      "465/465 [==============================] - 1s 1ms/step - loss: 0.3648 - mae: 0.3648 - mse: 0.3271 - val_loss: 0.3807 - val_mae: 0.3807 - val_mse: 0.3393\n",
      "Epoch 60/1000\n",
      "465/465 [==============================] - 1s 1ms/step - loss: 0.3630 - mae: 0.3630 - mse: 0.3062 - val_loss: 0.3754 - val_mae: 0.3754 - val_mse: 0.3294\n",
      "Epoch 61/1000\n",
      "465/465 [==============================] - 1s 1ms/step - loss: 0.3620 - mae: 0.3620 - mse: 0.3067 - val_loss: 0.3740 - val_mae: 0.3740 - val_mse: 0.3243\n",
      "Epoch 62/1000\n",
      "465/465 [==============================] - 1s 1ms/step - loss: 0.3612 - mae: 0.3612 - mse: 0.3066 - val_loss: 0.3725 - val_mae: 0.3725 - val_mse: 0.3289\n",
      "Epoch 63/1000\n",
      "465/465 [==============================] - 1s 1ms/step - loss: 0.3626 - mae: 0.3626 - mse: 0.3063 - val_loss: 0.3723 - val_mae: 0.3723 - val_mse: 0.3246\n",
      "Epoch 64/1000\n",
      "465/465 [==============================] - 1s 1ms/step - loss: 0.3616 - mae: 0.3616 - mse: 0.3063 - val_loss: 0.3717 - val_mae: 0.3717 - val_mse: 0.3387\n",
      "Epoch 65/1000\n",
      "465/465 [==============================] - 1s 1ms/step - loss: 0.3601 - mae: 0.3601 - mse: 0.3033 - val_loss: 0.3740 - val_mae: 0.3740 - val_mse: 0.3459\n",
      "Epoch 66/1000\n",
      "465/465 [==============================] - 1s 1ms/step - loss: 0.3593 - mae: 0.3593 - mse: 0.3043 - val_loss: 0.3738 - val_mae: 0.3738 - val_mse: 0.3400\n",
      "Epoch 67/1000\n",
      "465/465 [==============================] - 1s 1ms/step - loss: 0.3633 - mae: 0.3633 - mse: 0.4300 - val_loss: 0.3675 - val_mae: 0.3675 - val_mse: 0.3261\n",
      "Epoch 68/1000\n",
      "465/465 [==============================] - 1s 1ms/step - loss: 0.3593 - mae: 0.3593 - mse: 0.3033 - val_loss: 0.3681 - val_mae: 0.3681 - val_mse: 0.3247\n",
      "Epoch 69/1000\n",
      "465/465 [==============================] - 1s 1ms/step - loss: 0.3592 - mae: 0.3592 - mse: 0.3023 - val_loss: 0.3679 - val_mae: 0.3679 - val_mse: 0.3220\n",
      "Epoch 70/1000\n",
      "465/465 [==============================] - 1s 1ms/step - loss: 0.3597 - mae: 0.3597 - mse: 0.3037 - val_loss: 0.3682 - val_mae: 0.3682 - val_mse: 0.3215\n",
      "Epoch 71/1000\n",
      "465/465 [==============================] - 1s 2ms/step - loss: 0.3598 - mae: 0.3598 - mse: 0.3056 - val_loss: 0.3777 - val_mae: 0.3777 - val_mse: 0.3532\n",
      "Epoch 72/1000\n",
      "465/465 [==============================] - 1s 1ms/step - loss: 0.3581 - mae: 0.3581 - mse: 0.3004 - val_loss: 0.3678 - val_mae: 0.3678 - val_mse: 0.3357\n",
      "Epoch 73/1000\n",
      "465/465 [==============================] - 1s 1ms/step - loss: 0.3572 - mae: 0.3572 - mse: 0.2986 - val_loss: 0.3690 - val_mae: 0.3690 - val_mse: 0.3302\n",
      "Epoch 74/1000\n",
      "465/465 [==============================] - 1s 2ms/step - loss: 0.3592 - mae: 0.3592 - mse: 0.4250 - val_loss: 0.3653 - val_mae: 0.3653 - val_mse: 0.3254\n",
      "Epoch 75/1000\n",
      "465/465 [==============================] - 1s 1ms/step - loss: 0.3570 - mae: 0.3570 - mse: 0.3037 - val_loss: 0.3819 - val_mae: 0.3819 - val_mse: 0.3570\n",
      "Epoch 76/1000\n",
      "465/465 [==============================] - 1s 1ms/step - loss: 0.3577 - mae: 0.3577 - mse: 0.3003 - val_loss: 0.3703 - val_mae: 0.3703 - val_mse: 0.3281\n",
      "Epoch 77/1000\n",
      "465/465 [==============================] - 1s 1ms/step - loss: 0.3571 - mae: 0.3571 - mse: 0.2982 - val_loss: 0.3655 - val_mae: 0.3655 - val_mse: 0.3247\n",
      "Epoch 78/1000\n",
      "465/465 [==============================] - 1s 1ms/step - loss: 0.3567 - mae: 0.3567 - mse: 0.2984 - val_loss: 0.3740 - val_mae: 0.3740 - val_mse: 0.3369\n",
      "Epoch 79/1000\n",
      "465/465 [==============================] - 1s 1ms/step - loss: 0.3572 - mae: 0.3572 - mse: 0.3188 - val_loss: 0.3656 - val_mae: 0.3656 - val_mse: 0.3213\n",
      "Epoch 80/1000\n",
      "465/465 [==============================] - 1s 1ms/step - loss: 0.3581 - mae: 0.3581 - mse: 0.3389 - val_loss: 0.3669 - val_mae: 0.3669 - val_mse: 0.3245\n",
      "Epoch 81/1000\n",
      "465/465 [==============================] - 1s 1ms/step - loss: 0.3571 - mae: 0.3571 - mse: 0.3180 - val_loss: 0.3723 - val_mae: 0.3723 - val_mse: 0.3280\n",
      "Epoch 82/1000\n",
      "465/465 [==============================] - 1s 1ms/step - loss: 0.3551 - mae: 0.3551 - mse: 0.2964 - val_loss: 0.3640 - val_mae: 0.3640 - val_mse: 0.3229\n",
      "Epoch 83/1000\n",
      "465/465 [==============================] - 1s 1ms/step - loss: 0.3544 - mae: 0.3544 - mse: 0.2948 - val_loss: 0.3685 - val_mae: 0.3685 - val_mse: 0.3223\n",
      "Epoch 84/1000\n",
      "465/465 [==============================] - 1s 1ms/step - loss: 0.3559 - mae: 0.3559 - mse: 0.2979 - val_loss: 0.3704 - val_mae: 0.3704 - val_mse: 0.3424\n",
      "Epoch 85/1000\n",
      "465/465 [==============================] - 1s 1ms/step - loss: 0.3537 - mae: 0.3537 - mse: 0.2930 - val_loss: 0.3701 - val_mae: 0.3701 - val_mse: 0.3410\n",
      "Epoch 86/1000\n",
      "465/465 [==============================] - 1s 1ms/step - loss: 0.3530 - mae: 0.3530 - mse: 0.2941 - val_loss: 0.3717 - val_mae: 0.3717 - val_mse: 0.3376\n",
      "Epoch 87/1000\n",
      "465/465 [==============================] - 1s 1ms/step - loss: 0.3543 - mae: 0.3543 - mse: 0.3310 - val_loss: 0.3655 - val_mae: 0.3655 - val_mse: 0.3253\n",
      "Epoch 88/1000\n",
      "465/465 [==============================] - 1s 1ms/step - loss: 0.3537 - mae: 0.3537 - mse: 0.2945 - val_loss: 0.3728 - val_mae: 0.3728 - val_mse: 0.3281\n",
      "Epoch 89/1000\n",
      "465/465 [==============================] - 1s 1ms/step - loss: 0.3530 - mae: 0.3530 - mse: 0.2935 - val_loss: 0.3626 - val_mae: 0.3626 - val_mse: 0.3246\n",
      "Epoch 90/1000\n",
      "465/465 [==============================] - 1s 1ms/step - loss: 0.3527 - mae: 0.3527 - mse: 0.2930 - val_loss: 0.3685 - val_mae: 0.3685 - val_mse: 0.3218\n",
      "Epoch 91/1000\n",
      "465/465 [==============================] - 1s 1ms/step - loss: 0.3565 - mae: 0.3565 - mse: 0.3895 - val_loss: 0.3614 - val_mae: 0.3614 - val_mse: 0.3276\n",
      "Epoch 92/1000\n",
      "465/465 [==============================] - 1s 1ms/step - loss: 0.3510 - mae: 0.3510 - mse: 0.2911 - val_loss: 0.3712 - val_mae: 0.3712 - val_mse: 0.3344\n",
      "Epoch 93/1000\n",
      "465/465 [==============================] - 1s 1ms/step - loss: 0.3512 - mae: 0.3512 - mse: 0.2919 - val_loss: 0.3654 - val_mae: 0.3654 - val_mse: 0.3206\n",
      "Epoch 94/1000\n",
      "465/465 [==============================] - 1s 1ms/step - loss: 0.3511 - mae: 0.3511 - mse: 0.2910 - val_loss: 0.3668 - val_mae: 0.3668 - val_mse: 0.3236\n",
      "Epoch 95/1000\n",
      "465/465 [==============================] - 1s 1ms/step - loss: 0.3544 - mae: 0.3544 - mse: 0.3689 - val_loss: 0.3623 - val_mae: 0.3623 - val_mse: 0.3233\n",
      "Epoch 96/1000\n",
      "465/465 [==============================] - 1s 1ms/step - loss: 0.3526 - mae: 0.3526 - mse: 0.2925 - val_loss: 0.3734 - val_mae: 0.3734 - val_mse: 0.3215\n",
      "Epoch 97/1000\n",
      "465/465 [==============================] - 1s 1ms/step - loss: 0.3518 - mae: 0.3518 - mse: 0.2984 - val_loss: 0.3636 - val_mae: 0.3636 - val_mse: 0.3168\n",
      "Epoch 98/1000\n",
      "465/465 [==============================] - 1s 1ms/step - loss: 0.3500 - mae: 0.3500 - mse: 0.2897 - val_loss: 0.3695 - val_mae: 0.3695 - val_mse: 0.3276\n",
      "Epoch 99/1000\n"
     ]
    },
    {
     "name": "stdout",
     "output_type": "stream",
     "text": [
      "465/465 [==============================] - 1s 1ms/step - loss: 0.3513 - mae: 0.3513 - mse: 0.2899 - val_loss: 0.3660 - val_mae: 0.3660 - val_mse: 0.3336\n",
      "Epoch 100/1000\n",
      "465/465 [==============================] - 1s 1ms/step - loss: 0.3488 - mae: 0.3488 - mse: 0.2885 - val_loss: 0.3624 - val_mae: 0.3624 - val_mse: 0.3130\n",
      "Epoch 101/1000\n",
      "465/465 [==============================] - 1s 1ms/step - loss: 0.3503 - mae: 0.3503 - mse: 0.2904 - val_loss: 0.3694 - val_mae: 0.3694 - val_mse: 0.3286\n"
     ]
    }
   ],
   "source": [
    "history = model.fit(X_train,y_train, epochs= 1000, validation_split= 0.1, callbacks= [es,checkpoint])"
   ]
  },
  {
   "cell_type": "code",
   "execution_count": 33,
   "id": "2ebfb245",
   "metadata": {},
   "outputs": [
    {
     "data": {
      "text/plain": [
       "dict_keys(['loss', 'mae', 'mse', 'val_loss', 'val_mae', 'val_mse'])"
      ]
     },
     "execution_count": 33,
     "metadata": {},
     "output_type": "execute_result"
    }
   ],
   "source": [
    "history.history.keys()"
   ]
  },
  {
   "cell_type": "code",
   "execution_count": 34,
   "id": "5f7385f4",
   "metadata": {},
   "outputs": [
    {
     "data": {
      "image/png": "[encoded data removed]",
      "text/plain": [
       "<Figure size 640x480 with 1 Axes>"
      ]
     },
     "metadata": {},
     "output_type": "display_data"
    }
   ],
   "source": [
    "plt.xlabel('Epoach')\n",
    "plt.ylabel('Loss')\n",
    "plt.plot(history.history['loss'],c ='b')\n",
    "plt.plot(history.history['val_loss'],c ='r')\n",
    "plt.show()"
   ]
  },
  {
   "cell_type": "code",
   "execution_count": null,
   "id": "b8c44217",
   "metadata": {},
   "outputs": [],
   "source": []
  }
 ],
 "metadata": {
  "kernelspec": {
   "display_name": "Python 3 (ipykernel)",
   "language": "python",
   "name": "python3"
  },
  "language_info": {
   "codemirror_mode": {
    "name": "ipython",
    "version": 3
   },
   "file_extension": ".py",
   "mimetype": "text/x-python",
   "name": "python",
   "nbconvert_exporter": "python",
   "pygments_lexer": "ipython3",
   "version": "3.9.13"
  }
 },
 "nbformat": 4,
 "nbformat_minor": 5
}
